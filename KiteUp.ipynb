{
 "cells": [
  {
   "cell_type": "code",
   "execution_count": 1,
   "metadata": {
    "collapsed": true
   },
   "outputs": [],
   "source": [
    "import requests as r\n",
    "import datetime as dt\n",
    "import pandas as pd"
   ]
  },
  {
   "cell_type": "markdown",
   "metadata": {},
   "source": [
    "# KiteUp - Icelandic weather alert system for kitesurfers"
   ]
  },
  {
   "cell_type": "code",
   "execution_count": 29,
   "metadata": {
    "collapsed": true
   },
   "outputs": [],
   "source": [
    "\n",
    "'''Constants\n",
    "Weather Station Id's'''\n",
    "REY = 1 # Reykjavík : Grótta\n",
    "EYR = 1395 # Eyrarbakki : Ölfurárós\n",
    "GEL = 1480 # Geldingarnes : Geldingarnes\n",
    "STR = 1473 # Straumsvík : Skógtjörn, Grótta\n",
    "\n",
    "'''\n",
    "TIDE Station Id's\n",
    "''' \n",
    "REY_TIDE = 23 # Reykjavík\n",
    "TLH_TIDE = 25 # Þorlákshöfn\n",
    "\n",
    "'''Configure your variables:\n",
    "hour_range - Hour range, compared with <= and >=\n",
    "wind_range - In m/s, <= and >=\n",
    "min_rows - Minimum rows per day. Some forecasts only predict every 3 hours, Some every hour. compared with <= and >=\n",
    "locations - Put in the stations you want to get updates about along with the directions you want to filter for\n",
    "            Each weather station can have many kiteable locations you can check for, see STR(Straumsvík) station for example.\n",
    "'''\n",
    "\n",
    "# Time range\n",
    "hour_range = ['09:00','20:00']\n",
    "# Wind with m/s range that will be compared with <= and >=\n",
    "# A 9 metre kite your wind range could be around [6,12] m/s\n",
    "wind_range = [6,12]\n",
    "\n",
    "# For rain filter, checks if it contains any of these in a string lowercase\n",
    "do_not_want = ['rign','skúr'] # Leave empty if you want any kind of weather condition\n",
    "\n",
    "\n",
    "check_days = 3 # How many days ahead to check, including today, highest is 5\n",
    "\n",
    "include_directions = True # if to include the directions for the spots given below\n",
    "min_rows = 2 # Setting min rows as 2 because some forecasts only predict for every 3 hours\n",
    "\n",
    "# Spots:\n",
    "# Stores directions\n",
    "# Each spot also stores a Tide ID and Minimum tide height in meters for each spot. Empty list if not applicable.\n",
    "# Try to come up with the best locations, directions and tides to look for. Tide height will be compared with >= row['Sjávarhæð [m]']\n",
    "GROTTA = {'Grótta':[['N','NNA','NV','NNV','VNV','V','VSV','SV'],[REY_TIDE, 1.2]]}\n",
    "SKOGTJ = {'Skógtjörn':[['S','SA','SSA','SV','SSV','VSV'],[]]}\n",
    "GELNES = {'Geldingarnes':[['A','ASA','SSA','SA','V','VNV'],[REY_TIDE, 1.5]]}\n",
    "OLFUS = {'Ölfusárlón':[['A','ASA','SSA','S','SA','SSV','VSV','VNV','V'],[TLH_TIDE, 1.5]]}\n",
    "\n",
    "\n",
    "# Weather stations can have many spots\n",
    "locations = {\n",
    "                REY:[GROTTA],\n",
    "                EYR:[OLFUS],\n",
    "                GEL:[GELNES],\n",
    "                STR:[SKOGTJ, \n",
    "                    GROTTA]\n",
    "            }\n",
    "\n"
   ]
  },
  {
   "cell_type": "code",
   "execution_count": 30,
   "metadata": {
    "collapsed": true
   },
   "outputs": [],
   "source": [
    "def query_weather_api(locations):\n",
    "    base_url = \"https://apis.is\"\n",
    "    path = \"/weather/forecasts/is/?stations=\"\n",
    "    station_text_format = \"{},\" * len(locations)\n",
    "    stations = station_text_format.format(*locations.keys())\n",
    "    res = r.get(url=base_url + path + stations)\n",
    "    return res\n",
    "    '''\n",
    "    Response:\n",
    "    results - listi af dict:\n",
    "        id - Stöðvanúmer\n",
    "        name - Nafn á stöð\n",
    "        atime - tími hvenær spá er gefin út á forminu %Y-%m-%d %H:%M:%S\n",
    "        forecast - list af dict: \n",
    "            ftime - tími á forminu %Y-%m-%d %H:%M:%S\n",
    "            F - vindhraði, \n",
    "            D - vindstefnu'''"
   ]
  },
  {
   "cell_type": "code",
   "execution_count": 31,
   "metadata": {},
   "outputs": [],
   "source": [
    "def query_tides_api(location_id, day):\n",
    "    # This function returns a dataframe about the tides 24 hours from starting daytime\n",
    "    base_url = \"http://www.vegagerdin.is\"\n",
    "    path = \"/vs/StationsDetails.aspx\"\n",
    "    query_format = \"?ID={}&Per=24&Dt={}&nohead=true\".format(location_id, day.strftime(\"%Y%m%d%H%M\"))\n",
    "    df = pd.read_html(base_url + path + query_format, decimal=',', thousands='.')[0]\n",
    "    return df\n",
    "\n",
    "def clean_tides_df(df):\n",
    "    df.columns = df.iloc[0,:].values\n",
    "    df = df.iloc[1:,:].reset_index(drop=True) #'6.10.2018 19:00'\n",
    "    df['Tími'] = pd.to_datetime(df['Tími'],format='%d.%m.%Y %H:%M')\n",
    "    df_tides['Sjávarhæð [m]'] = pd.to_numeric(df_tides['Sjávarhæð [m]'])\n",
    "    df_tides.rename(columns={'Tími':'ftime'}, inplace=True)\n",
    "    return df"
   ]
  },
  {
   "cell_type": "code",
   "execution_count": 32,
   "metadata": {
    "collapsed": true
   },
   "outputs": [],
   "source": [
    "def wind_filter(df, wind_range):\n",
    "    return df[(df.F  >= wind_range[0]) & (df.F <= wind_range[1])]\n",
    "\n",
    "def directions_filter(df, directions): # Checks the 'D' column (Direction)\n",
    "    return df[df.D.isin(directions)]\n",
    "\n",
    "def hour_range_filter(df, hour_range):\n",
    "    return df.between_time(*hour_range)\n",
    "\n",
    "def rain_filter(df, wcond): # Checks the 'W' column (Weather)\n",
    "    if not wcond:\n",
    "        return df\n",
    "    for cw in wcond: # use ~ for to reverse the booleans because we do not want it to contain this weather description\n",
    "        df = df[~df.W.str.lower().str.contains(cw)]\n",
    "    return df\n",
    "\n",
    "def tides_filter(df, min_height):\n",
    "    return df[df['Sjávarhæð [m]'] >= min_height] # Returns only the rows for which the statement is true \n",
    "    "
   ]
  },
  {
   "cell_type": "code",
   "execution_count": 33,
   "metadata": {
    "collapsed": true
   },
   "outputs": [],
   "source": [
    "\n",
    "def run_filters(df, direction_tide, day):\n",
    "    df = wind_filter(df, wind_range)\n",
    "    df = rain_filter(df, do_not_want)\n",
    "\n",
    "    if not df.empty:\n",
    "        if include_directions:\n",
    "            df = directions_filter(df, direction_tide[0])\n",
    "        # If we get through all this we query for the tides sea stations for day variable\n",
    "        if direction_tide[1]: # If the list is not empty, such as with Skógtjörn\n",
    "            df_tides = clean_tides_df(query_tides_api(direction_tide[1][0], day - pd.DateOffset(hour=0))) # Always reset the hour to 00:00\n",
    "            df = pd.merge(left=df, right=df_tides, on='ftime', how='inner')\n",
    "            df = tides_filter(df, direction_tide[1][1])\n",
    "    return df\n",
    "    \n",
    "'''\n",
    "day_check function:\n",
    "Filters out if the forecast of the day has the right wind and kite–able directions\n",
    "Parameters:\n",
    "df – df containing weather for one day\n",
    "location_id - weather station id '''\n",
    "def day_check(df, location_id, link, utgafutimi, day):\n",
    "    for spot in locations[location_id]:\n",
    "        clean_df = df.copy() # For all the spots we need a fresh copy from here\n",
    "        for name, direction_tide in spot.items():\n",
    "            df = run_filters(df, direction_tide, day)\n",
    "            if df.shape[0] >= min_rows:\n",
    "                print(spot)\n",
    "                print(\"Spá gefin út: \" + utgafutimi)\n",
    "                print(link)\n",
    "                print(df.head())\n",
    "            df = clean_df.copy()\n",
    "            \n",
    "            \n",
    "            \n",
    "            "
   ]
  },
  {
   "cell_type": "code",
   "execution_count": 34,
   "metadata": {
    "collapsed": true
   },
   "outputs": [],
   "source": [
    "def main():\n",
    "    \n",
    "    response_weather = query_weather_api(locations)\n",
    "    vedur = response_weather.json()['results']\n",
    "    \n",
    "    for i in range(len(vedur)):\n",
    "        location_id = int(vedur[i]['id'])\n",
    "        link = vedur[i]['link']\n",
    "        \n",
    "        utgafutimi = vedur[i]['atime']\n",
    "        df = pd.DataFrame(vedur[i]['forecast'])\n",
    "        df['ftime'] = df['ftime'].astype('datetime64[s]')\n",
    "        df['F'] = df['F'].astype('float')\n",
    "        \n",
    "        # Set the index to a DateTimeIndex so we can filter by hour\n",
    "        df.set_index(pd.DatetimeIndex(df['ftime']), inplace=True)\n",
    "        df.index.names=['index']\n",
    "        df = hour_range_filter(df, hour_range)\n",
    "        \n",
    "        # Get the first date\n",
    "        day = df['ftime'].iloc[0]\n",
    "\n",
    "        for i in range(0, check_days):\n",
    "            df_day = df[df.ftime.dt.day == day.day]\n",
    "            # Call day_check with a dataframe for each day\n",
    "            day_check(df_day, location_id, link, utgafutimi, day)\n",
    "            # Iterate to the next day\n",
    "            day += pd.DateOffset(days=1)\n"
   ]
  },
  {
   "cell_type": "code",
   "execution_count": 35,
   "metadata": {},
   "outputs": [
    {
     "ename": "NameError",
     "evalue": "name 'df_tides' is not defined",
     "output_type": "error",
     "traceback": [
      "\u001b[0;31m---------------------------------------------------------------------------\u001b[0m",
      "\u001b[0;31mNameError\u001b[0m                                 Traceback (most recent call last)",
      "\u001b[0;32m<ipython-input-35-c7bc734e5e35>\u001b[0m in \u001b[0;36m<module>\u001b[0;34m()\u001b[0m\n\u001b[1;32m      1\u001b[0m \u001b[0;32mif\u001b[0m \u001b[0m__name__\u001b[0m \u001b[0;34m==\u001b[0m \u001b[0;34m'__main__'\u001b[0m\u001b[0;34m:\u001b[0m\u001b[0;34m\u001b[0m\u001b[0m\n\u001b[0;32m----> 2\u001b[0;31m     \u001b[0mmain\u001b[0m\u001b[0;34m(\u001b[0m\u001b[0;34m)\u001b[0m\u001b[0;34m\u001b[0m\u001b[0m\n\u001b[0m",
      "\u001b[0;32m<ipython-input-34-413b13844dbd>\u001b[0m in \u001b[0;36mmain\u001b[0;34m()\u001b[0m\n\u001b[1;32m     24\u001b[0m             \u001b[0mdf_day\u001b[0m \u001b[0;34m=\u001b[0m \u001b[0mdf\u001b[0m\u001b[0;34m[\u001b[0m\u001b[0mdf\u001b[0m\u001b[0;34m.\u001b[0m\u001b[0mftime\u001b[0m\u001b[0;34m.\u001b[0m\u001b[0mdt\u001b[0m\u001b[0;34m.\u001b[0m\u001b[0mday\u001b[0m \u001b[0;34m==\u001b[0m \u001b[0mday\u001b[0m\u001b[0;34m.\u001b[0m\u001b[0mday\u001b[0m\u001b[0;34m]\u001b[0m\u001b[0;34m\u001b[0m\u001b[0m\n\u001b[1;32m     25\u001b[0m             \u001b[0;31m# Call day_check with a dataframe for each day\u001b[0m\u001b[0;34m\u001b[0m\u001b[0;34m\u001b[0m\u001b[0m\n\u001b[0;32m---> 26\u001b[0;31m             \u001b[0mday_check\u001b[0m\u001b[0;34m(\u001b[0m\u001b[0mdf_day\u001b[0m\u001b[0;34m,\u001b[0m \u001b[0mlocation_id\u001b[0m\u001b[0;34m,\u001b[0m \u001b[0mlink\u001b[0m\u001b[0;34m,\u001b[0m \u001b[0mutgafutimi\u001b[0m\u001b[0;34m,\u001b[0m \u001b[0mday\u001b[0m\u001b[0;34m)\u001b[0m\u001b[0;34m\u001b[0m\u001b[0m\n\u001b[0m\u001b[1;32m     27\u001b[0m             \u001b[0;31m# Iterate to the next day\u001b[0m\u001b[0;34m\u001b[0m\u001b[0;34m\u001b[0m\u001b[0m\n\u001b[1;32m     28\u001b[0m             \u001b[0mday\u001b[0m \u001b[0;34m+=\u001b[0m \u001b[0mpd\u001b[0m\u001b[0;34m.\u001b[0m\u001b[0mDateOffset\u001b[0m\u001b[0;34m(\u001b[0m\u001b[0mdays\u001b[0m\u001b[0;34m=\u001b[0m\u001b[0;36m1\u001b[0m\u001b[0;34m)\u001b[0m\u001b[0;34m\u001b[0m\u001b[0m\n",
      "\u001b[0;32m<ipython-input-33-3b991792f097>\u001b[0m in \u001b[0;36mday_check\u001b[0;34m(df, location_id, link, utgafutimi, day)\u001b[0m\n\u001b[1;32m     24\u001b[0m         \u001b[0mclean_df\u001b[0m \u001b[0;34m=\u001b[0m \u001b[0mdf\u001b[0m\u001b[0;34m.\u001b[0m\u001b[0mcopy\u001b[0m\u001b[0;34m(\u001b[0m\u001b[0;34m)\u001b[0m \u001b[0;31m# For all the spots we need a fresh copy from here\u001b[0m\u001b[0;34m\u001b[0m\u001b[0m\n\u001b[1;32m     25\u001b[0m         \u001b[0;32mfor\u001b[0m \u001b[0mname\u001b[0m\u001b[0;34m,\u001b[0m \u001b[0mdirection_tide\u001b[0m \u001b[0;32min\u001b[0m \u001b[0mspot\u001b[0m\u001b[0;34m.\u001b[0m\u001b[0mitems\u001b[0m\u001b[0;34m(\u001b[0m\u001b[0;34m)\u001b[0m\u001b[0;34m:\u001b[0m\u001b[0;34m\u001b[0m\u001b[0m\n\u001b[0;32m---> 26\u001b[0;31m             \u001b[0mdf\u001b[0m \u001b[0;34m=\u001b[0m \u001b[0mrun_filters\u001b[0m\u001b[0;34m(\u001b[0m\u001b[0mdf\u001b[0m\u001b[0;34m,\u001b[0m \u001b[0mdirection_tide\u001b[0m\u001b[0;34m,\u001b[0m \u001b[0mday\u001b[0m\u001b[0;34m)\u001b[0m\u001b[0;34m\u001b[0m\u001b[0m\n\u001b[0m\u001b[1;32m     27\u001b[0m             \u001b[0;32mif\u001b[0m \u001b[0mdf\u001b[0m\u001b[0;34m.\u001b[0m\u001b[0mshape\u001b[0m\u001b[0;34m[\u001b[0m\u001b[0;36m0\u001b[0m\u001b[0;34m]\u001b[0m \u001b[0;34m>=\u001b[0m \u001b[0mmin_rows\u001b[0m\u001b[0;34m:\u001b[0m\u001b[0;34m\u001b[0m\u001b[0m\n\u001b[1;32m     28\u001b[0m                 \u001b[0mprint\u001b[0m\u001b[0;34m(\u001b[0m\u001b[0mspot\u001b[0m\u001b[0;34m)\u001b[0m\u001b[0;34m\u001b[0m\u001b[0m\n",
      "\u001b[0;32m<ipython-input-33-3b991792f097>\u001b[0m in \u001b[0;36mrun_filters\u001b[0;34m(df, direction_tide, day)\u001b[0m\n\u001b[1;32m      9\u001b[0m         \u001b[0;31m# If we get through all this we query for the tides sea stations for day variable\u001b[0m\u001b[0;34m\u001b[0m\u001b[0;34m\u001b[0m\u001b[0m\n\u001b[1;32m     10\u001b[0m         \u001b[0;32mif\u001b[0m \u001b[0mdirection_tide\u001b[0m\u001b[0;34m[\u001b[0m\u001b[0;36m1\u001b[0m\u001b[0;34m]\u001b[0m\u001b[0;34m:\u001b[0m \u001b[0;31m# If the list is not empty, such as with Skógtjörn\u001b[0m\u001b[0;34m\u001b[0m\u001b[0m\n\u001b[0;32m---> 11\u001b[0;31m             \u001b[0mdf_tides\u001b[0m \u001b[0;34m=\u001b[0m \u001b[0mclean_tides_df\u001b[0m\u001b[0;34m(\u001b[0m\u001b[0mquery_tides_api\u001b[0m\u001b[0;34m(\u001b[0m\u001b[0mdirection_tide\u001b[0m\u001b[0;34m[\u001b[0m\u001b[0;36m1\u001b[0m\u001b[0;34m]\u001b[0m\u001b[0;34m[\u001b[0m\u001b[0;36m0\u001b[0m\u001b[0;34m]\u001b[0m\u001b[0;34m,\u001b[0m \u001b[0mday\u001b[0m \u001b[0;34m-\u001b[0m \u001b[0mpd\u001b[0m\u001b[0;34m.\u001b[0m\u001b[0mDateOffset\u001b[0m\u001b[0;34m(\u001b[0m\u001b[0mhour\u001b[0m\u001b[0;34m=\u001b[0m\u001b[0;36m0\u001b[0m\u001b[0;34m)\u001b[0m\u001b[0;34m)\u001b[0m\u001b[0;34m)\u001b[0m \u001b[0;31m# Always reset the hour to 00:00\u001b[0m\u001b[0;34m\u001b[0m\u001b[0m\n\u001b[0m\u001b[1;32m     12\u001b[0m             \u001b[0mdf\u001b[0m \u001b[0;34m=\u001b[0m \u001b[0mpd\u001b[0m\u001b[0;34m.\u001b[0m\u001b[0mmerge\u001b[0m\u001b[0;34m(\u001b[0m\u001b[0mleft\u001b[0m\u001b[0;34m=\u001b[0m\u001b[0mdf\u001b[0m\u001b[0;34m,\u001b[0m \u001b[0mright\u001b[0m\u001b[0;34m=\u001b[0m\u001b[0mdf_tides\u001b[0m\u001b[0;34m,\u001b[0m \u001b[0mon\u001b[0m\u001b[0;34m=\u001b[0m\u001b[0;34m'ftime'\u001b[0m\u001b[0;34m,\u001b[0m \u001b[0mhow\u001b[0m\u001b[0;34m=\u001b[0m\u001b[0;34m'inner'\u001b[0m\u001b[0;34m)\u001b[0m\u001b[0;34m\u001b[0m\u001b[0m\n\u001b[1;32m     13\u001b[0m             \u001b[0mdf\u001b[0m \u001b[0;34m=\u001b[0m \u001b[0mtides_filter\u001b[0m\u001b[0;34m(\u001b[0m\u001b[0mdf\u001b[0m\u001b[0;34m,\u001b[0m \u001b[0mdirection_tide\u001b[0m\u001b[0;34m[\u001b[0m\u001b[0;36m1\u001b[0m\u001b[0;34m]\u001b[0m\u001b[0;34m[\u001b[0m\u001b[0;36m1\u001b[0m\u001b[0;34m]\u001b[0m\u001b[0;34m)\u001b[0m\u001b[0;34m\u001b[0m\u001b[0m\n",
      "\u001b[0;32m<ipython-input-31-45df19bc3cd6>\u001b[0m in \u001b[0;36mclean_tides_df\u001b[0;34m(df)\u001b[0m\n\u001b[1;32m     11\u001b[0m     \u001b[0mdf\u001b[0m \u001b[0;34m=\u001b[0m \u001b[0mdf\u001b[0m\u001b[0;34m.\u001b[0m\u001b[0miloc\u001b[0m\u001b[0;34m[\u001b[0m\u001b[0;36m1\u001b[0m\u001b[0;34m:\u001b[0m\u001b[0;34m,\u001b[0m\u001b[0;34m:\u001b[0m\u001b[0;34m]\u001b[0m\u001b[0;34m.\u001b[0m\u001b[0mreset_index\u001b[0m\u001b[0;34m(\u001b[0m\u001b[0mdrop\u001b[0m\u001b[0;34m=\u001b[0m\u001b[0;32mTrue\u001b[0m\u001b[0;34m)\u001b[0m \u001b[0;31m#'6.10.2018 19:00'\u001b[0m\u001b[0;34m\u001b[0m\u001b[0m\n\u001b[1;32m     12\u001b[0m     \u001b[0mdf\u001b[0m\u001b[0;34m[\u001b[0m\u001b[0;34m'Tími'\u001b[0m\u001b[0;34m]\u001b[0m \u001b[0;34m=\u001b[0m \u001b[0mpd\u001b[0m\u001b[0;34m.\u001b[0m\u001b[0mto_datetime\u001b[0m\u001b[0;34m(\u001b[0m\u001b[0mdf\u001b[0m\u001b[0;34m[\u001b[0m\u001b[0;34m'Tími'\u001b[0m\u001b[0;34m]\u001b[0m\u001b[0;34m,\u001b[0m\u001b[0mformat\u001b[0m\u001b[0;34m=\u001b[0m\u001b[0;34m'%d.%m.%Y %H:%M'\u001b[0m\u001b[0;34m)\u001b[0m\u001b[0;34m\u001b[0m\u001b[0m\n\u001b[0;32m---> 13\u001b[0;31m     \u001b[0mdf_tides\u001b[0m\u001b[0;34m[\u001b[0m\u001b[0;34m'Sjávarhæð [m]'\u001b[0m\u001b[0;34m]\u001b[0m \u001b[0;34m=\u001b[0m \u001b[0mpd\u001b[0m\u001b[0;34m.\u001b[0m\u001b[0mto_numeric\u001b[0m\u001b[0;34m(\u001b[0m\u001b[0mdf_tides\u001b[0m\u001b[0;34m[\u001b[0m\u001b[0;34m'Sjávarhæð [m]'\u001b[0m\u001b[0;34m]\u001b[0m\u001b[0;34m)\u001b[0m\u001b[0;34m\u001b[0m\u001b[0m\n\u001b[0m\u001b[1;32m     14\u001b[0m     \u001b[0mdf_tides\u001b[0m\u001b[0;34m.\u001b[0m\u001b[0mrename\u001b[0m\u001b[0;34m(\u001b[0m\u001b[0mcolumns\u001b[0m\u001b[0;34m=\u001b[0m\u001b[0;34m{\u001b[0m\u001b[0;34m'Tími'\u001b[0m\u001b[0;34m:\u001b[0m\u001b[0;34m'ftime'\u001b[0m\u001b[0;34m}\u001b[0m\u001b[0;34m,\u001b[0m \u001b[0minplace\u001b[0m\u001b[0;34m=\u001b[0m\u001b[0;32mTrue\u001b[0m\u001b[0;34m)\u001b[0m\u001b[0;34m\u001b[0m\u001b[0m\n\u001b[1;32m     15\u001b[0m     \u001b[0;32mreturn\u001b[0m \u001b[0mdf\u001b[0m\u001b[0;34m\u001b[0m\u001b[0m\n",
      "\u001b[0;31mNameError\u001b[0m: name 'df_tides' is not defined"
     ]
    }
   ],
   "source": [
    "if __name__ == '__main__':\n",
    "    main()"
   ]
  },
  {
   "cell_type": "code",
   "execution_count": null,
   "metadata": {},
   "outputs": [],
   "source": []
  }
 ],
 "metadata": {
  "kernelspec": {
   "display_name": "Python 3",
   "language": "python",
   "name": "python3"
  },
  "language_info": {
   "codemirror_mode": {
    "name": "ipython",
    "version": 3
   },
   "file_extension": ".py",
   "mimetype": "text/x-python",
   "name": "python",
   "nbconvert_exporter": "python",
   "pygments_lexer": "ipython3",
   "version": "3.6.4"
  }
 },
 "nbformat": 4,
 "nbformat_minor": 2
}
