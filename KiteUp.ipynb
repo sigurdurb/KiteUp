{
 "cells": [
  {
   "cell_type": "code",
   "execution_count": 8,
   "metadata": {
    "collapsed": true
   },
   "outputs": [],
   "source": [
    "import requests as r\n",
    "import datetime as dt\n",
    "import pandas as pd"
   ]
  },
  {
   "cell_type": "markdown",
   "metadata": {},
   "source": [
    "# KiteUp - Icelandic weather alert system for kitesurfers"
   ]
  },
  {
   "cell_type": "code",
   "execution_count": 9,
   "metadata": {
    "collapsed": true
   },
   "outputs": [],
   "source": [
    "\n",
    "'''Constants\n",
    "Weather Station Id's'''\n",
    "REY = 1 # Reykjavík : Grótta\n",
    "EYR = 1395 # Eyrarbakki : Eyrarbakki\n",
    "GEL = 1480 # Geldingarnes : Geldingarnes\n",
    "STR = 1473 # Straumsvík : Skógstjörn, Grótta\n",
    "\n",
    "\n",
    "'''Configure your variables:\n",
    "hour_range - Hour range, compared with <= and >=\n",
    "wind_range - In m/s, <= and >=\n",
    "min_rows - Minimum rows per day. Some forecasts only predict every 3 hours, Some every hour. compared with <= and >=\n",
    "locations - Put in the stations you want to get updates about along with the directions you want to filter for\n",
    "            Each weather station can have many kiteable locations you can check for, see STR(Straumsvík) station for example.\n",
    "'''\n",
    "\n",
    "# Time range\n",
    "hour_range = ['09:00','15:00']\n",
    "# Wind with m/s range that will be compared with <= and >=\n",
    "# A 9 metre kite your wind range could be around [6,12] m/s\n",
    "wind_range = [6,12]\n",
    "check_days = 3 # How many days ahead to check, including today\n",
    "\n",
    "include_directions = True\n",
    "min_rows = 2 # Setting min rows as 2 because some forecasts only predict for every 3 hours\n",
    "\n",
    "locations = {\n",
    "                REY:[{'Grótta':['N','NNA','NV','VNV']}],\n",
    "                EYR:[{'Ölfusárlón':['A','ASA','SSA','S','SSV','VSV']}],\n",
    "                GEL:[{'Geldingarnes':['A','ASA','SSA','SA','V','VNV']}],\n",
    "                STR:[{'Skógstjörn':['SV','SSV','VSV']}, \n",
    "                    {'Grótta':['N','NNA','NV','VNV']}]\n",
    "            }\n",
    "\n"
   ]
  },
  {
   "cell_type": "code",
   "execution_count": 10,
   "metadata": {
    "collapsed": true
   },
   "outputs": [],
   "source": [
    "def query_weather_api():\n",
    "    base_url = \"https://apis.is\"\n",
    "    path = \"/weather/forecasts/is/?stations=\"\n",
    "    station_text_format = \"{},\" * len(locations)\n",
    "    stations = station_text_format.format(*locations.keys())\n",
    "    res = r.get(url=base_url + path + stations)\n",
    "    return res\n",
    "    '''\n",
    "    Response:\n",
    "    results - listi af dict:\n",
    "        id - Stöðvanúmer\n",
    "        name - Nafn á stöð\n",
    "        atime - tími hvenær spá er gefin út væntanlega\n",
    "        forecast - list af dict:\n",
    "            það dict hefur ftime - tími á forminu %Y-%m-%d %H:%M:%S,\n",
    "            F - vindhraði, \n",
    "            D - vindstefnu'''"
   ]
  },
  {
   "cell_type": "code",
   "execution_count": 11,
   "metadata": {
    "collapsed": true
   },
   "outputs": [],
   "source": [
    "def wind_filter(df):\n",
    "    return df[(df.F  >= wind_range[0]) & (df.F <= wind_range[1])]\n",
    "\n",
    "def directions_filter(df, directions):\n",
    "    return df[df['D'].isin(directions)]\n",
    "\n",
    "def hour_range_filter(df, hour_range):\n",
    "    return df.between_time(*hour_range)"
   ]
  },
  {
   "cell_type": "code",
   "execution_count": 12,
   "metadata": {
    "collapsed": true
   },
   "outputs": [],
   "source": [
    "\n",
    "'''\n",
    "day_check function:\n",
    "Filters out if the forecast of the day has the right wind and kite–able directions\n",
    "Parameters:\n",
    "df – df containing weather for one day\n",
    "location_id - weather station id '''\n",
    "def day_check(df, location_id):\n",
    "    for spot in locations[location_id]:\n",
    "        for name, directions in spot.items():\n",
    "            df = wind_filter(df)\n",
    "            \n",
    "            if not df.empty:\n",
    "                if include_directions:\n",
    "                    df = directions_filter(df, directions)\n",
    "                if df.shape[0] >= min_rows:\n",
    "                    print(spot)\n",
    "                    print(df.head())\n"
   ]
  },
  {
   "cell_type": "code",
   "execution_count": 13,
   "metadata": {
    "collapsed": true
   },
   "outputs": [],
   "source": [
    "def main():\n",
    "    query_response = query_weather_api()\n",
    "    vedur = query_response.json()['results']\n",
    "    for i in range(len(vedur)):\n",
    "        location_id = int(vedur[i]['id'])\n",
    "        df = pd.DataFrame(vedur[i]['forecast'])\n",
    "        df['ftime'] = df['ftime'].astype('datetime64[s]')\n",
    "        df['F'] = df['F'].astype('int')\n",
    "        \n",
    "        # Set the index to a DateTimeIndex so we can filter by hour\n",
    "        df.set_index(pd.DatetimeIndex(df['ftime']), inplace=True)\n",
    "        df = hour_range_filter(df, hour_range)\n",
    "        # Get the first date\n",
    "        day = df['ftime'].iloc[0]\n",
    "\n",
    "        for i in range(check_days):\n",
    "            df_day = df[df.ftime.dt.day == day.day]\n",
    "            # Call day_check with a dataframe for each day\n",
    "            day_check(df_day, location_id)\n",
    "            # Iterate to the next day\n",
    "            day += pd.DateOffset(day=i+1)\n"
   ]
  },
  {
   "cell_type": "code",
   "execution_count": 14,
   "metadata": {},
   "outputs": [
    {
     "name": "stdout",
     "output_type": "stream",
     "text": [
      "{'Geldingarnes': ['A', 'ASA', 'SSA', 'SA', 'V', 'VNV']}\n",
      "                       D  F    N    R   T  TD                      W  \\\n",
      "ftime                                                                  \n",
      "2018-08-12 09:00:00    A  6  100  0.0  11   9  Lítils háttar rigning   \n",
      "2018-08-12 11:00:00  ASA  6  100  0.3  11   9  Lítils háttar rigning   \n",
      "2018-08-12 12:00:00  ASA  7  100  0.2  11   9  Lítils háttar rigning   \n",
      "2018-08-12 13:00:00   SA  6  100  0.2  12  10  Lítils háttar rigning   \n",
      "2018-08-12 14:00:00  ASA  6  100  0.0  13  10               Alskýjað   \n",
      "\n",
      "                                  ftime  \n",
      "ftime                                    \n",
      "2018-08-12 09:00:00 2018-08-12 09:00:00  \n",
      "2018-08-12 11:00:00 2018-08-12 11:00:00  \n",
      "2018-08-12 12:00:00 2018-08-12 12:00:00  \n",
      "2018-08-12 13:00:00 2018-08-12 13:00:00  \n",
      "2018-08-12 14:00:00 2018-08-12 14:00:00  \n"
     ]
    }
   ],
   "source": [
    "main()"
   ]
  },
  {
   "cell_type": "code",
   "execution_count": null,
   "metadata": {
    "collapsed": true
   },
   "outputs": [],
   "source": []
  }
 ],
 "metadata": {
  "kernelspec": {
   "display_name": "Python 3",
   "language": "python",
   "name": "python3"
  },
  "language_info": {
   "codemirror_mode": {
    "name": "ipython",
    "version": 3
   },
   "file_extension": ".py",
   "mimetype": "text/x-python",
   "name": "python",
   "nbconvert_exporter": "python",
   "pygments_lexer": "ipython3",
   "version": "3.6.4"
  }
 },
 "nbformat": 4,
 "nbformat_minor": 2
}
