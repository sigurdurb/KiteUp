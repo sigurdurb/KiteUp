{
 "cells": [
  {
   "cell_type": "code",
   "execution_count": 1,
   "metadata": {
    "collapsed": true
   },
   "outputs": [],
   "source": [
    "import requests as r\n",
    "import datetime as dt\n",
    "import pandas as pd"
   ]
  },
  {
   "cell_type": "markdown",
   "metadata": {},
   "source": [
    "# KiteUp - Icelandic weather alert system for kitesurfers"
   ]
  },
  {
   "cell_type": "code",
   "execution_count": 10,
   "metadata": {
    "collapsed": true
   },
   "outputs": [],
   "source": [
    "\n",
    "'''Constants\n",
    "Weather Station Id's'''\n",
    "REY = 1 # Reykjavík : Grótta\n",
    "EYR = 1395 # Eyrarbakki : Ölfurárós\n",
    "GEL = 1480 # Geldingarnes : Geldingarnes\n",
    "STR = 1473 # Straumsvík : Skógstjörn, Grótta\n",
    "\n",
    "\n",
    "'''Configure your variables:\n",
    "hour_range - Hour range, compared with <= and >=\n",
    "wind_range - In m/s, <= and >=\n",
    "min_rows - Minimum rows per day. Some forecasts only predict every 3 hours, Some every hour. compared with <= and >=\n",
    "locations - Put in the stations you want to get updates about along with the directions you want to filter for\n",
    "            Each weather station can have many kiteable locations you can check for, see STR(Straumsvík) station for example.\n",
    "'''\n",
    "\n",
    "# Time range\n",
    "hour_range = ['09:00','20:00']\n",
    "# Wind with m/s range that will be compared with <= and >=\n",
    "# A 9 metre kite your wind range could be around [6,12] m/s\n",
    "wind_range = [6,12]\n",
    "\n",
    "# For rain filter, checks if it contains any of these in a string lowercase\n",
    "do_not_want = ['rign','skúr'] # Leave empty if you want any kind of weather condition\n",
    "\n",
    "\n",
    "check_days = 3 # How many days ahead to check, including today\n",
    "\n",
    "include_directions = True # if to include the directions for the spots given below\n",
    "min_rows = 2 # Setting min rows as 2 because some forecasts only predict for every 3 hours\n",
    "\n",
    "# Spots: Directions\n",
    "# Try to come up with the best locations and directions to look for\n",
    "GROTTA = {'Grótta':['N','NNA','NV','NNV','VNV','V','VSV','SV']}\n",
    "SKOGTJ = {'Skógstjörn':['S','SA','SSA','SV','SSV','VSV']}\n",
    "GELNES = {'Geldingarnes':['A','ASA','SSA','SA','V','VNV']}\n",
    "OLFUS = {'Ölfusárlón':['A','ASA','SSA','S','SA','SSV','VSV','VNV','V']}\n",
    "\n",
    "# Weather stations can have many spots\n",
    "locations = {\n",
    "                REY:[GROTTA],\n",
    "                EYR:[OLFUS],\n",
    "                GEL:[GELNES],\n",
    "                STR:[SKOGTJ, \n",
    "                    GROTTA]\n",
    "            }\n",
    "\n"
   ]
  },
  {
   "cell_type": "code",
   "execution_count": 11,
   "metadata": {
    "collapsed": true
   },
   "outputs": [],
   "source": [
    "def query_weather_api():\n",
    "    base_url = \"https://apis.is\"\n",
    "    path = \"/weather/forecasts/is/?stations=\"\n",
    "    station_text_format = \"{},\" * len(locations)\n",
    "    stations = station_text_format.format(*locations.keys())\n",
    "    res = r.get(url=base_url + path + stations)\n",
    "    return res\n",
    "    '''\n",
    "    Response:\n",
    "    results - listi af dict:\n",
    "        id - Stöðvanúmer\n",
    "        name - Nafn á stöð\n",
    "        atime - tími hvenær spá er gefin út á forminu %Y-%m-%d %H:%M:%S\n",
    "        forecast - list af dict: \n",
    "            ftime - tími á forminu %Y-%m-%d %H:%M:%S\n",
    "            F - vindhraði, \n",
    "            D - vindstefnu'''"
   ]
  },
  {
   "cell_type": "code",
   "execution_count": 12,
   "metadata": {
    "collapsed": true
   },
   "outputs": [],
   "source": [
    "def wind_filter(df, wind_range):\n",
    "    return df[(df.F  >= wind_range[0]) & (df.F <= wind_range[1])]\n",
    "\n",
    "def directions_filter(df, directions): # Checks the 'D' column (Direction)\n",
    "    return df[df.D.isin(directions)]\n",
    "\n",
    "def hour_range_filter(df, hour_range):\n",
    "    return df.between_time(*hour_range)\n",
    "\n",
    "def rain_filter(df, wcond): # Checks the 'W' column (Weather)\n",
    "    if not wcond:\n",
    "        return df\n",
    "    for cw in wcond: # use ~ for to reverse the booleans because we do not want it to contain\n",
    "        df = df[~df.W.str.lower().str.contains(cw)]\n",
    "    return df"
   ]
  },
  {
   "cell_type": "code",
   "execution_count": 13,
   "metadata": {
    "collapsed": true
   },
   "outputs": [],
   "source": [
    "\n",
    "'''\n",
    "day_check function:\n",
    "Filters out if the forecast of the day has the right wind and kite–able directions\n",
    "Parameters:\n",
    "df – df containing weather for one day\n",
    "location_id - weather station id '''\n",
    "def day_check(df, location_id, link, utgafutimi):\n",
    "    for spot in locations[location_id]:\n",
    "        for name, directions in spot.items():\n",
    "            df = wind_filter(df, wind_range)\n",
    "            df = rain_filter(df, do_not_want)\n",
    "            \n",
    "            if not df.empty:\n",
    "                if include_directions:\n",
    "                    df = directions_filter(df, directions)\n",
    "                if df.shape[0] >= min_rows:\n",
    "                    print(spot)\n",
    "                    print(\"Spá gefin út: \" + utgafutimi)\n",
    "                    print(link)\n",
    "                    print(df.drop('ftime',axis=1).head())\n"
   ]
  },
  {
   "cell_type": "code",
   "execution_count": 14,
   "metadata": {
    "collapsed": true
   },
   "outputs": [],
   "source": [
    "def main():\n",
    "    query_response = query_weather_api()\n",
    "    vedur = query_response.json()['results']\n",
    "    for i in range(len(vedur)):\n",
    "        location_id = int(vedur[i]['id'])\n",
    "        link = vedur[i]['link']\n",
    "        \n",
    "        utgafutimi = vedur[i]['atime']\n",
    "        df = pd.DataFrame(vedur[i]['forecast'])\n",
    "        df['ftime'] = df['ftime'].astype('datetime64[s]')\n",
    "        df['F'] = df['F'].astype('float')\n",
    "        \n",
    "        # Set the index to a DateTimeIndex so we can filter by hour\n",
    "        df.set_index(pd.DatetimeIndex(df['ftime']), inplace=True)\n",
    "        df = hour_range_filter(df, hour_range)\n",
    "        # Get the first date\n",
    "        day = df['ftime'].iloc[0]\n",
    "\n",
    "        for i in range(0, check_days):\n",
    "            df_day = df[df.ftime.dt.day == day.day]\n",
    "            # Call day_check with a dataframe for each day\n",
    "            day_check(df_day, location_id, link, utgafutimi)\n",
    "            # Iterate to the next days\n",
    "            day += pd.DateOffset(days=1)\n"
   ]
  },
  {
   "cell_type": "code",
   "execution_count": 15,
   "metadata": {},
   "outputs": [
    {
     "name": "stdout",
     "output_type": "stream",
     "text": [
      "{'Grótta': ['N', 'NNA', 'NV', 'NNV', 'VNV', 'V', 'VSV', 'SV']}\n",
      "Spá gefin út: 2018-09-27 12:00:00\n",
      "http://www.vedur.is/vedur/spar/stadaspar/hofudborgarsvaedid/#group=100&station=1\n",
      "                       D    F    N    R  T  TD           W\n",
      "ftime                                                     \n",
      "2018-09-27 16:00:00    V  6.0  100  0.0  7  -1      Skýjað\n",
      "2018-09-27 17:00:00  VNV  6.0   10  0.0  7  -1  Léttskýjað\n",
      "{'Grótta': ['N', 'NNA', 'NV', 'NNV', 'VNV', 'V', 'VSV', 'SV']}\n",
      "Spá gefin út: 2018-09-27 12:00:00\n",
      "http://www.vedur.is/vedur/spar/stadaspar/hofudborgarsvaedid/#group=100&station=1\n",
      "                       D     F    N    R  T TD                      W\n",
      "ftime                                                                \n",
      "2018-09-28 12:00:00   SV  11.0  100  0.6  9  7  Lítils háttar rigning\n",
      "2018-09-28 13:00:00   SV  10.0  100  0.2  9  7  Lítils háttar rigning\n",
      "2018-09-28 14:00:00   SV  10.0  100  0.4  9  7                Rigning\n",
      "2018-09-28 15:00:00   SV  11.0  100  0.7  8  5                Rigning\n",
      "2018-09-28 16:00:00  VSV   9.0  100  1.9  8  5                Rigning\n",
      "{'Grótta': ['N', 'NNA', 'NV', 'NNV', 'VNV', 'V', 'VSV', 'SV']}\n",
      "Spá gefin út: 2018-09-27 12:00:00\n",
      "http://www.vedur.is/vedur/spar/stadaspar/hofudborgarsvaedid/#group=100&station=1\n",
      "                       D    F    N    R  T  TD                      W\n",
      "ftime                                                                \n",
      "2018-09-29 09:00:00  VNV  6.0  100  0.2  6   2  Lítils háttar rigning\n",
      "2018-09-29 16:00:00    N  7.0   40  0.0  7   0             Léttskýjað\n",
      "2018-09-29 17:00:00  NNA  7.0   80  0.0  6   0                 Skýjað\n",
      "2018-09-29 18:00:00  NNA  7.0    0  0.0  5  -1             Léttskýjað\n",
      "2018-09-29 19:00:00    N  7.0    0  0.0  4  -2              Heiðskírt\n",
      "{'Ölfusárlón': ['A', 'ASA', 'SSA', 'S', 'SA', 'SSV', 'VSV', 'VNV', 'V']}\n",
      "Spá gefin út: 2018-09-27 12:00:00\n",
      "http://www.vedur.is/vedur/spar/stadaspar/sudurland/#group=19&station=1395\n",
      "                       D     F    N    R  T TD           W\n",
      "ftime                                                     \n",
      "2018-09-27 13:00:00    V  10.0   10  0.0  8  2  Léttskýjað\n",
      "2018-09-27 14:00:00    V   7.0   80  0.0  8  2      Skýjað\n",
      "2018-09-27 15:00:00  VNV   6.0  100  0.0  8  1    Alskýjað\n",
      "2018-09-27 17:00:00  VNV   6.0  100  0.0  7  2      Skýjað\n",
      "{'Geldingarnes': ['A', 'ASA', 'SSA', 'SA', 'V', 'VNV']}\n",
      "Spá gefin út: 2018-09-27 12:00:00\n",
      "http://www.vedur.is/vedur/spar/stadaspar/hofudborgarsvaedid/#group=100&station=1480\n",
      "                       D    F    N    R  T  TD           W\n",
      "ftime                                                     \n",
      "2018-09-27 13:00:00    V  6.0   90  0.0  8   1    Alskýjað\n",
      "2018-09-27 14:00:00  VNV  7.0   90  0.0  8  -1    Alskýjað\n",
      "2018-09-27 15:00:00    V  6.0  100  0.0  8  -1    Alskýjað\n",
      "2018-09-27 16:00:00    V  8.0  100  0.0  8  -1      Skýjað\n",
      "2018-09-27 17:00:00  VNV  7.0   10  0.0  7  -1  Léttskýjað\n",
      "{'Geldingarnes': ['A', 'ASA', 'SSA', 'SA', 'V', 'VNV']}\n",
      "Spá gefin út: 2018-09-27 12:00:00\n",
      "http://www.vedur.is/vedur/spar/stadaspar/hofudborgarsvaedid/#group=100&station=1480\n",
      "                       D    F    N    R  T TD                      W\n",
      "ftime                                                               \n",
      "2018-09-29 09:00:00  VNV  9.0   90  0.2  6  2  Lítils háttar rigning\n",
      "2018-09-29 10:00:00  VNV  7.0  100  0.0  6  2               Alskýjað\n",
      "2018-09-29 11:00:00  VNV  7.0  100  0.1  6  2  Lítils háttar rigning\n",
      "{'Skógstjörn': ['S', 'SA', 'SSA', 'SV', 'SSV', 'VSV']}\n",
      "Spá gefin út: 2018-09-27 12:00:00\n",
      "http://www.vedur.is/vedur/spar/stadaspar/hofudborgarsvaedid/#group=100&station=1473\n",
      "                      D     F    N    R  T TD                      W\n",
      "ftime                                                               \n",
      "2018-09-28 16:00:00  SV  12.0  100  0.8  8  5                Rigning\n",
      "2018-09-28 17:00:00  SV  12.0  100  0.2  8  5  Lítils háttar rigning\n",
      "2018-09-28 18:00:00  SV  11.0  100  0.2  8  5  Lítils háttar rigning\n",
      "2018-09-28 19:00:00  SV  11.0  100  0.2  7  5  Lítils háttar rigning\n",
      "2018-09-28 20:00:00  SV  11.0  100  0.2  7  4  Lítils háttar rigning\n",
      "{'Grótta': ['N', 'NNA', 'NV', 'NNV', 'VNV', 'V', 'VSV', 'SV']}\n",
      "Spá gefin út: 2018-09-27 12:00:00\n",
      "http://www.vedur.is/vedur/spar/stadaspar/hofudborgarsvaedid/#group=100&station=1473\n",
      "                      D     F    N    R  T TD                      W\n",
      "ftime                                                               \n",
      "2018-09-28 16:00:00  SV  12.0  100  0.8  8  5                Rigning\n",
      "2018-09-28 17:00:00  SV  12.0  100  0.2  8  5  Lítils háttar rigning\n",
      "2018-09-28 18:00:00  SV  11.0  100  0.2  8  5  Lítils háttar rigning\n",
      "2018-09-28 19:00:00  SV  11.0  100  0.2  7  5  Lítils háttar rigning\n",
      "2018-09-28 20:00:00  SV  11.0  100  0.2  7  4  Lítils háttar rigning\n"
     ]
    }
   ],
   "source": [
    "if __name__ == '__main__':\n",
    "    main()"
   ]
  },
  {
   "cell_type": "code",
   "execution_count": null,
   "metadata": {},
   "outputs": [],
   "source": []
  }
 ],
 "metadata": {
  "kernelspec": {
   "display_name": "Python 3",
   "language": "python",
   "name": "python3"
  },
  "language_info": {
   "codemirror_mode": {
    "name": "ipython",
    "version": 3
   },
   "file_extension": ".py",
   "mimetype": "text/x-python",
   "name": "python",
   "nbconvert_exporter": "python",
   "pygments_lexer": "ipython3",
   "version": "3.6.4"
  }
 },
 "nbformat": 4,
 "nbformat_minor": 2
}
