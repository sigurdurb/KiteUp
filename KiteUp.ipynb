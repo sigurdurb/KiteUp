{
 "cells": [
  {
   "cell_type": "code",
   "execution_count": 234,
   "metadata": {
    "collapsed": true
   },
   "outputs": [],
   "source": [
    "descriptions = {\n",
    "  'F'   : { 'is': 'Vindhraði (m/s)',\n",
    "            'en': 'Wind speed (m/s)'},\n",
    "  'FX'  : { 'is': 'Mesti vindhraði (m/s)',\n",
    "            'en': 'Top wind speed (m/s)'},\n",
    "  'FG'  : { 'is': 'Mesta vindhviða (m/s)',\n",
    "            'en': 'Top wind gust (m/s)'},\n",
    "  'D'   : { 'is': 'Vindstefna',\n",
    "            'en': 'Wind direction'},\n",
    "  'T'   : { 'is': 'Hiti (°C)',\n",
    "            'en': 'Air temperature (°C)'},\n",
    "  'W'   : { 'is': 'Veðurlýsing',\n",
    "            'en': 'Weather description'},\n",
    "  'V'   : { 'is': 'Skyggni (km)',\n",
    "            'en': 'Visibility (km)'},\n",
    "  'N'   : { 'is': 'Skýjahula (%)',\n",
    "            'en': 'Cloud cover (%)'},\n",
    "  'P'   : { 'is': 'Loftþrýstingur (hPa)',\n",
    "            'en': 'Air pressure'},\n",
    "  'RH'  : { 'is': 'Rakastig (%)',\n",
    "            'en': 'Humidity (%)'},\n",
    "  'SNC' : { 'is': 'Lýsing á snjó',\n",
    "            'en': 'Snow description'},\n",
    "  'SND' : { 'is': 'Snjódýpt',\n",
    "            'en': 'Snow depth'},\n",
    "  'SED' : { 'is': 'Snjólag',\n",
    "            'en': 'Snow type'},\n",
    "  'RTE' : { 'is': 'Vegahiti (°C)',\n",
    "            'en': 'Road temperature (°C)'},\n",
    "  'TD'  : { 'is': 'Daggarmark (°C)',\n",
    "            'en': 'Dew limit (°C)'},\n",
    "  'R'   : { 'is': 'Uppsöfnuð úrkoma (mm/klst) úr sjálfvirkum mælum',\n",
    "            'en': 'Cumulative precipitation (mm/h) from automatic measuring units'}\n",
    "};"
   ]
  },
  {
   "cell_type": "code",
   "execution_count": 235,
   "metadata": {
    "collapsed": true
   },
   "outputs": [],
   "source": [
    "import requests as r\n",
    "import datetime as dt\n",
    "import pandas as pd"
   ]
  },
  {
   "cell_type": "code",
   "execution_count": 236,
   "metadata": {},
   "outputs": [],
   "source": [
    "\n",
    "# Constants\n",
    "# Weather Stations with their Id's\n",
    "REY = 1 # Reykjavík : Grótta\n",
    "EYR = 1395 # Eyrarbakki : Eyrarbakki\n",
    "GEL = 1480 # Geldingarnes : Geldingarnes\n",
    "STR = 1473 # Straumsvík : Skógstjörn\n",
    "\n",
    "\n",
    "'''Configure your variables:\n",
    "hour_range - Hour range, compared with <= and >=\n",
    "wind_range - In m/s\n",
    "min_rows - Minimum rows per day. Some forecasts only predict every 3 hours, Some every hour. compared with <= and >=\n",
    "locations - Put in the stations you want to get updates about along with the directions you want to filter for\n",
    "            Each weather station can have many kiteable locations you can check for, see STR(Straumsvík) station for example\n",
    "            that has many locations.\n",
    "'''\n",
    "\n",
    "# Time range\n",
    "#hour_range = [8, 18]\n",
    "hour_range = ['09:00','15:00']\n",
    "# Wind with m/s range that will be compared with <= and >=\n",
    "# for example if you have a 9 metre kite your wind range could be [6,12] m/s\n",
    "wind_range = [6,12]\n",
    "check_days = 3 # How many days to check, including today\n",
    "\n",
    "include_directions = True\n",
    "min_rows = 2 # Setting min rows as 2 because some forecasts only predict every 3 hours\n",
    "# wind_flex = 1 # m/s flexibility between hours\n",
    "\n",
    "locations = {\n",
    "                REY:[{'Grótta':['N','NNA','NV','VNV']}],\n",
    "                EYR:[{'Ölfusárlón':['A','ASA','SSA','S','SSV','VSV']}],\n",
    "                GEL:[{'Geldingarnes':['A','ASA','SSA','V','VNV']}],\n",
    "                STR:[{'Skógstjörn':['SV','SSV','VSV']}, {'Grótta':['N','NNA','NV','VNV']}]\n",
    "            }\n",
    "\n"
   ]
  },
  {
   "cell_type": "code",
   "execution_count": 237,
   "metadata": {},
   "outputs": [],
   "source": [
    "def query_weather_api():\n",
    "    base_url = \"https://apis.is\"\n",
    "    path = \"/weather/forecasts/is/?stations=\"\n",
    "    station_text_format = \"{},\" * len(locations)\n",
    "    stations = station_text_format.format(*locations.keys())\n",
    "    res = r.get(url=base_url + path + stations)\n",
    "    return res\n",
    "    '''\n",
    "    Response:\n",
    "    results - listi af dict:\n",
    "        id - Stöðvanúmer\n",
    "        name - Nafn á stöð\n",
    "        atime - tími hvenær spá er gefin út væntanlega\n",
    "        forecast - list af dict:\n",
    "            það dict hefur ftime - tími á forminu %Y-%m-%d %H:%M:%S,\n",
    "            F - vindhraði, \n",
    "            D - vindstefnu'''"
   ]
  },
  {
   "cell_type": "code",
   "execution_count": 238,
   "metadata": {},
   "outputs": [
    {
     "name": "stdout",
     "output_type": "stream",
     "text": [
      "1\n"
     ]
    },
    {
     "data": {
      "text/plain": [
       "datetime.datetime(2018, 8, 7, 12, 0)"
      ]
     },
     "execution_count": 238,
     "metadata": {},
     "output_type": "execute_result"
    }
   ],
   "source": [
    "print(dt.datetime(2013,7,7,1,30).hour)\n",
    "dt.datetime.strptime('2018-08-07 12:00:00', '%Y-%m-%d %H:%M:%S')"
   ]
  },
  {
   "cell_type": "code",
   "execution_count": null,
   "metadata": {},
   "outputs": [],
   "source": []
  },
  {
   "cell_type": "code",
   "execution_count": null,
   "metadata": {},
   "outputs": [],
   "source": []
  },
  {
   "cell_type": "code",
   "execution_count": null,
   "metadata": {
    "collapsed": true
   },
   "outputs": [],
   "source": []
  },
  {
   "cell_type": "code",
   "execution_count": 239,
   "metadata": {},
   "outputs": [
    {
     "data": {
      "text/plain": [
       "\"df = pd.DataFrame(vedur['results'][0]['forecast'])\\n\\nfor stod_id, kite_spots in locations.items():\\n    for ks in kite_spots:\\n        for i in range(len(vedur['results'])):\\n            location_id = vedur['results'][i]['id']\\n            df = pd.DataFrame(vedur['results'][i]['forecast'])\\n            #df['ftime'] = df['ftime'].astype('datetime64[s]')\\n            #print(type(df['ftime'].ix[0]))\\n            df.set_index(pd.DatetimeIndex(df['ftime']), inplace=True)\\n            first_day = df['ftime'].iloc[0][0:10]\\n            first_day_int = int(first_day[8:10])\\n            print(first_day_int)\\n            #print(dict(first_day))\\n            df = df.between_time(*hour_range)\\n            # Förum í gegnum tímana einn dag í einu fyrir tímana í hour_range\\n            for i in range(check_days):\\n                \\n                print(df_day.head())\\n                day_check(df_day, location_id)\\n                \\n                \\n            \\n            # d = {day: pd.DataFrame for name in }\\n            # df_hourly = df.\\n            #print(df['ftime'])\\n            #print(df.head(20))\\n    print(stod_id)\\n    print(kite_spots)\\n \""
      ]
     },
     "execution_count": 239,
     "metadata": {},
     "output_type": "execute_result"
    }
   ],
   "source": [
    "'''df = pd.DataFrame(vedur['results'][0]['forecast'])\n",
    "\n",
    "for stod_id, kite_spots in locations.items():\n",
    "    for ks in kite_spots:\n",
    "        for i in range(len(vedur['results'])):\n",
    "            location_id = vedur['results'][i]['id']\n",
    "            df = pd.DataFrame(vedur['results'][i]['forecast'])\n",
    "            #df['ftime'] = df['ftime'].astype('datetime64[s]')\n",
    "            #print(type(df['ftime'].ix[0]))\n",
    "            df.set_index(pd.DatetimeIndex(df['ftime']), inplace=True)\n",
    "            first_day = df['ftime'].iloc[0][0:10]\n",
    "            first_day_int = int(first_day[8:10])\n",
    "            print(first_day_int)\n",
    "            #print(dict(first_day))\n",
    "            df = df.between_time(*hour_range)\n",
    "            # Förum í gegnum tímana einn dag í einu fyrir tímana í hour_range\n",
    "            for i in range(check_days):\n",
    "                \n",
    "                print(df_day.head())\n",
    "                day_check(df_day, location_id)\n",
    "                \n",
    "                \n",
    "            \n",
    "            # d = {day: pd.DataFrame for name in }\n",
    "            # df_hourly = df.\n",
    "            #print(df['ftime'])\n",
    "            #print(df.head(20))\n",
    "    print(stod_id)\n",
    "    print(kite_spots)\n",
    " '''"
   ]
  },
  {
   "cell_type": "code",
   "execution_count": null,
   "metadata": {},
   "outputs": [],
   "source": []
  },
  {
   "cell_type": "code",
   "execution_count": null,
   "metadata": {},
   "outputs": [],
   "source": []
  },
  {
   "cell_type": "code",
   "execution_count": null,
   "metadata": {
    "collapsed": true
   },
   "outputs": [],
   "source": []
  },
  {
   "cell_type": "code",
   "execution_count": 240,
   "metadata": {},
   "outputs": [],
   "source": [
    "def wind_filter(df):\n",
    "    return df[(df.F  >= wind_range[0]) & (df.F <= wind_range[1])]\n",
    "\n",
    "def directions_filter(df, directions):\n",
    "    return df[df['D'].isin(directions)]\n",
    "\n",
    "\n",
    "'''\n",
    "Filters out if the forecast of the day has the right wind and kite–able directions\n",
    "Parameters:\n",
    "df – df containing weather for one day\n",
    "location_id - weather station id '''\n",
    "def day_check(df, location_id):\n",
    "    for spot in locations[location_id]:\n",
    "        for name, directions in spot.items():\n",
    "            df = wind_filter(df)\n",
    "            # df = df.groupby('ftime').filter(lambda x: (x['F'] >= wind_range[0]) & (x['F'] <= wind_range[1]))\n",
    "            \n",
    "            if not df.empty:\n",
    "                #df = directions_filter(df, directions)\n",
    "                if df.shape[0] >= min_rows:\n",
    "                    print(spot)\n",
    "                    print(df.head())\n"
   ]
  },
  {
   "cell_type": "markdown",
   "metadata": {},
   "source": []
  },
  {
   "cell_type": "code",
   "execution_count": 241,
   "metadata": {
    "collapsed": true
   },
   "outputs": [],
   "source": [
    "\n",
    "def hour_range_filter(df, hour_range):\n",
    "    return df.between_time(*hour_range)"
   ]
  },
  {
   "cell_type": "code",
   "execution_count": 242,
   "metadata": {},
   "outputs": [],
   "source": [
    "def main():\n",
    "    query_response = query_weather_api()\n",
    "    vedur = query_response.json()['results']\n",
    "    for i in range(len(vedur)):\n",
    "        location_id = int(vedur[i]['id'])\n",
    "        df = pd.DataFrame(vedur[i]['forecast'])\n",
    "        df['ftime'] = df['ftime'].astype('datetime64[s]')\n",
    "        df['F'] = df['F'].astype('int')\n",
    "        \n",
    "        # Set the index to a DateTimeIndex so we can filter by hour\n",
    "        df.set_index(pd.DatetimeIndex(df['ftime']), inplace=True)\n",
    "        df = hour_range_filter(df, hour_range)\n",
    "        # Get the first date\n",
    "        day = df['ftime'].iloc[0]\n",
    "\n",
    "        for i in range(check_days):\n",
    "            df_day = df[df.ftime.dt.day == day.day]\n",
    "            # Call day_check with a dataframe for each day\n",
    "            day_check(df_day, location_id)\n",
    "            # Iterate to the next day\n",
    "            day += pd.DateOffset(day=i+1)\n"
   ]
  },
  {
   "cell_type": "code",
   "execution_count": 243,
   "metadata": {},
   "outputs": [
    {
     "name": "stdout",
     "output_type": "stream",
     "text": [
      "{'Grótta': ['N', 'NNA', 'NV', 'VNV']}\n",
      "                       D  F    N    R   T TD         W               ftime\n",
      "ftime                                                                     \n",
      "2018-08-11 09:00:00  ASA  6  100  0.1  11  7  Alskýjað 2018-08-11 09:00:00\n",
      "2018-08-11 11:00:00   SA  6  100  0.0  12  8  Alskýjað 2018-08-11 11:00:00\n",
      "2018-08-11 12:00:00   SA  6  100  0.0  12  8  Alskýjað 2018-08-11 12:00:00\n",
      "2018-08-11 14:00:00   SA  6  100  0.0  13  8  Alskýjað 2018-08-11 14:00:00\n",
      "2018-08-11 15:00:00   SA  6  100  0.0  13  8  Alskýjað 2018-08-11 15:00:00\n",
      "{'Ölfusárlón': ['A', 'ASA', 'SSA', 'S', 'SSV', 'VSV']}\n",
      "                      D   F    N    R   T TD         W               ftime\n",
      "ftime                                                                     \n",
      "2018-08-11 09:00:00  SA   8  100  0.0  11  9  Alskýjað 2018-08-11 09:00:00\n",
      "2018-08-11 10:00:00  SA   9  100  0.0  12  9  Alskýjað 2018-08-11 10:00:00\n",
      "2018-08-11 11:00:00  SA   9  100  0.0  12  9  Alskýjað 2018-08-11 11:00:00\n",
      "2018-08-11 12:00:00  SA   9  100  0.0  12  9  Alskýjað 2018-08-11 12:00:00\n",
      "2018-08-11 13:00:00  SA  10  100  0.0  13  9  Alskýjað 2018-08-11 13:00:00\n",
      "{'Geldingarnes': ['A', 'ASA', 'SSA', 'V', 'VNV']}\n",
      "                       D  F    N    R   T TD         W               ftime\n",
      "ftime                                                                     \n",
      "2018-08-11 09:00:00  ASA  8  100  0.0  11  7  Alskýjað 2018-08-11 09:00:00\n",
      "2018-08-11 10:00:00  ASA  8  100  0.0  11  8  Alskýjað 2018-08-11 10:00:00\n",
      "2018-08-11 11:00:00   SA  7  100  0.1  12  8  Alskýjað 2018-08-11 11:00:00\n",
      "2018-08-11 12:00:00   SA  7  100  0.0  12  8  Alskýjað 2018-08-11 12:00:00\n",
      "2018-08-11 13:00:00   SA  8  100  0.0  12  8  Alskýjað 2018-08-11 13:00:00\n",
      "{'Skógstjörn': ['SV', 'SSV', 'VSV']}\n",
      "                       D  F    N    R   T TD         W               ftime\n",
      "ftime                                                                     \n",
      "2018-08-11 09:00:00  ASA  6  100  0.0  11  8  Alskýjað 2018-08-11 09:00:00\n",
      "2018-08-11 10:00:00   SA  6  100  0.0  12  8  Alskýjað 2018-08-11 10:00:00\n",
      "2018-08-11 11:00:00   SA  7  100  0.0  12  9  Alskýjað 2018-08-11 11:00:00\n",
      "2018-08-11 12:00:00   SA  7  100  0.1  12  9  Alskýjað 2018-08-11 12:00:00\n",
      "2018-08-11 13:00:00   SA  7  100  0.0  12  9  Alskýjað 2018-08-11 13:00:00\n",
      "{'Grótta': ['N', 'NNA', 'NV', 'VNV']}\n",
      "                       D  F    N    R   T TD         W               ftime\n",
      "ftime                                                                     \n",
      "2018-08-11 09:00:00  ASA  6  100  0.0  11  8  Alskýjað 2018-08-11 09:00:00\n",
      "2018-08-11 10:00:00   SA  6  100  0.0  12  8  Alskýjað 2018-08-11 10:00:00\n",
      "2018-08-11 11:00:00   SA  7  100  0.0  12  9  Alskýjað 2018-08-11 11:00:00\n",
      "2018-08-11 12:00:00   SA  7  100  0.1  12  9  Alskýjað 2018-08-11 12:00:00\n",
      "2018-08-11 13:00:00   SA  7  100  0.0  12  9  Alskýjað 2018-08-11 13:00:00\n"
     ]
    }
   ],
   "source": [
    "main()"
   ]
  },
  {
   "cell_type": "code",
   "execution_count": null,
   "metadata": {},
   "outputs": [],
   "source": []
  },
  {
   "cell_type": "code",
   "execution_count": null,
   "metadata": {
    "collapsed": true
   },
   "outputs": [],
   "source": []
  }
 ],
 "metadata": {
  "kernelspec": {
   "display_name": "Python 3",
   "language": "python",
   "name": "python3"
  },
  "language_info": {
   "codemirror_mode": {
    "name": "ipython",
    "version": 3
   },
   "file_extension": ".py",
   "mimetype": "text/x-python",
   "name": "python",
   "nbconvert_exporter": "python",
   "pygments_lexer": "ipython3",
   "version": "3.6.4"
  }
 },
 "nbformat": 4,
 "nbformat_minor": 2
}
